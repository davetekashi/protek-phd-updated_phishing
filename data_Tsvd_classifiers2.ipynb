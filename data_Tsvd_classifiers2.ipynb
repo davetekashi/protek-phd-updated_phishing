{
  "nbformat": 4,
  "nbformat_minor": 0,
  "metadata": {
    "colab": {
      "provenance": [],
      "collapsed_sections": []
    },
    "kernelspec": {
      "name": "python3",
      "display_name": "Python 3"
    },
    "language_info": {
      "name": "python"
    }
  },
  "cells": [
    {
      "cell_type": "code",
      "execution_count": 1,
      "metadata": {
        "id": "MOkM3c4X9Ycu"
      },
      "outputs": [],
      "source": [
        "#! pip install hmmlearn\n",
        "import numpy as np\n",
        "import pandas as pd\n",
        "import matplotlib.pyplot as plt\n",
        "import seaborn as sns\n",
        "from sklearn.model_selection import train_test_split\n",
        "from sklearn.ensemble import RandomForestClassifier\n",
        "from sklearn.svm import SVC\n",
        "from sklearn.neighbors import KNeighborsClassifier\n",
        "from sklearn.metrics import classification_report, confusion_matrix, accuracy_score, roc_auc_score, roc_curve\n",
        "import itertools\n",
        "from sklearn.cluster import KMeans\n",
        "#from hmmlearn import hmm\n",
        "from statsmodels.tsa.ar_model import AutoReg\n",
        "from sklearn.decomposition import NMF, TruncatedSVD\n",
        "from sklearn.linear_model import LinearRegression\n",
        "from sklearn.metrics import r2_score\n",
        "from sklearn.preprocessing import StandardScaler, OrdinalEncoder"
      ]
    },
    {
      "cell_type": "code",
      "source": [
        "data = pd.read_csv(r'/content/dataset_B_05_2020 (1).csv')\n",
        "x = data.drop(columns=['url', 'status']).values\n",
        "y = data.iloc[:, -1].values\n",
        "y = y.reshape(-1, 1)\n",
        "encoder = OrdinalEncoder()\n",
        "# transform data\n",
        "y = encoder.fit_transform(y)\n",
        "x = encoder.fit_transform(x)\n",
        "print(x)\n",
        "#sc = StandardScaler()\n",
        "#x = sc.fit_transform(x)\n",
        "#y = sc.fit(y)"
      ],
      "metadata": {
        "colab": {
          "base_uri": "https://localhost:8080/"
        },
        "id": "rJuEcW02-Ttv",
        "outputId": "8f25aa41-9824-4912-b8fb-dd57f1544fec"
      },
      "execution_count": 2,
      "outputs": [
        {
          "output_type": "stream",
          "name": "stdout",
          "text": [
            "[[ 25.  15.   0. ...   1.   1.   4.]\n",
            " [ 65.  19.   1. ...   0.   1.   2.]\n",
            " [114.  46.   1. ...   0.   1.   0.]\n",
            " ...\n",
            " [ 93.  12.   1. ...   0.   1.  10.]\n",
            " [ 26.  26.   0. ...   0.   0.   4.]\n",
            " [305.  10.   1. ...   1.   1.   0.]]\n"
          ]
        }
      ]
    },
    {
      "cell_type": "code",
      "source": [
        "#This is just to check the linearity percentage of the dataset\n",
        "regression = LinearRegression().fit(x,y)\n",
        "print(r2_score(regression.predict(x), y))"
      ],
      "metadata": {
        "colab": {
          "base_uri": "https://localhost:8080/"
        },
        "id": "-xWi5iQy-pcf",
        "outputId": "ee32ecce-5311-4843-ecfe-924e9206932b"
      },
      "execution_count": 3,
      "outputs": [
        {
          "output_type": "stream",
          "name": "stdout",
          "text": [
            "0.6448022205256743\n"
          ]
        }
      ]
    },
    {
      "cell_type": "code",
      "source": [
        "svd = TruncatedSVD(n_components=5, algorithm='randomized',\n",
        "                   random_state=0)\n",
        "x_svd = svd.fit_transform(x)"
      ],
      "metadata": {
        "id": "eSAE10I9-4fu"
      },
      "execution_count": 4,
      "outputs": []
    },
    {
      "cell_type": "code",
      "source": [
        "x_train, x_test, y_train, y_test = train_test_split(x_svd, y, test_size=0.3, random_state=2)"
      ],
      "metadata": {
        "id": "rvc-uQBz_AsU"
      },
      "execution_count": 5,
      "outputs": []
    },
    {
      "cell_type": "code",
      "source": [
        "#SVM MODEL\n",
        "\n",
        "model_svm = SVC(random_state=1)\n",
        "model_svm.fit(x_train, y_train)\n",
        "y_pred_svm = model_svm.predict(x_test)\n",
        "print(classification_report(y_test, y_pred_svm))"
      ],
      "metadata": {
        "colab": {
          "base_uri": "https://localhost:8080/"
        },
        "id": "-jMkANJE_HeF",
        "outputId": "a7edc709-bd58-4215-bc64-563e5658b55d"
      },
      "execution_count": 6,
      "outputs": [
        {
          "output_type": "stream",
          "name": "stderr",
          "text": [
            "/usr/local/lib/python3.7/dist-packages/sklearn/utils/validation.py:993: DataConversionWarning: A column-vector y was passed when a 1d array was expected. Please change the shape of y to (n_samples, ), for example using ravel().\n",
            "  y = column_or_1d(y, warn=True)\n"
          ]
        },
        {
          "output_type": "stream",
          "name": "stdout",
          "text": [
            "              precision    recall  f1-score   support\n",
            "\n",
            "         0.0       0.84      0.83      0.83      1747\n",
            "         1.0       0.82      0.84      0.83      1682\n",
            "\n",
            "    accuracy                           0.83      3429\n",
            "   macro avg       0.83      0.83      0.83      3429\n",
            "weighted avg       0.83      0.83      0.83      3429\n",
            "\n"
          ]
        }
      ]
    },
    {
      "cell_type": "code",
      "source": [
        "#===========================CONSTRUCTING THE CONFUSION MATRIX=============================#\n",
        "def plot_confusion_matrix(cm, classes, normalize=True, title='Confusion matrix', cmap=plt.cm.Reds):\n",
        "    \n",
        "    plt.figure(figsize=(10,10))\n",
        "    plt.imshow(cm, interpolation='nearest', cmap=cmap)\n",
        "    plt.title(title)\n",
        "    plt.colorbar()\n",
        "    tick_marks = np.arange(len(classes))\n",
        "    plt.xticks(tick_marks, classes, rotation=45)\n",
        "    plt.yticks(tick_marks, classes)\n",
        "    if normalize:\n",
        "        cm = cm.astype('float') / cm.sum(axis=1)[:, np.newaxis]\n",
        "        cm = np.around(cm, decimals=2)\n",
        "        cm[np.isnan(cm)] = 0.0\n",
        "    thresh = cm.max() / 2.\n",
        "    for i, j in itertools.product(range(cm.shape[0]), range(cm.shape[1])):\n",
        "        plt.text(j, i, cm[i, j],\n",
        "                 horizontalalignment=\"center\",\n",
        "                 color=\"white\" if cm[i, j] > thresh else \"black\")\n",
        "    plt.tight_layout()\n",
        "    plt.ylabel('True label')\n",
        "    plt.xlabel('Predicted label')\n",
        "cm = confusion_matrix(y_test, y_pred_svm)\n",
        "target_names = [\"Phishing Detected\", \"Phishing Not Detected\"]\n",
        "plot_confusion_matrix(cm, target_names, normalize=False, title='Confusion Matrix')\n",
        "accuracy_score(y_test, y_pred_svm)"
      ],
      "metadata": {
        "colab": {
          "base_uri": "https://localhost:8080/",
          "height": 714
        },
        "id": "DsICXKGf_LMc",
        "outputId": "7a660369-5815-4358-e8b3-ed29e50d3558"
      },
      "execution_count": 7,
      "outputs": [
        {
          "output_type": "execute_result",
          "data": {
            "text/plain": [
              "0.8314377369495479"
            ]
          },
          "metadata": {},
          "execution_count": 7
        },
        {
          "output_type": "display_data",
          "data": {
            "text/plain": [
              "<Figure size 720x720 with 2 Axes>"
            ],
            "image/png": "[encoded data removed]"
          },
          "metadata": {
            "needs_background": "light"
          }
        }
      ]
    },
    {
      "cell_type": "code",
      "source": [
        "#KNN model\n",
        "\n",
        "model_KNN = KNeighborsClassifier()\n",
        "model_KNN.fit(x_train, y_train)\n",
        "y_pred_KNN = model_KNN.predict(x_test)\n",
        "print(classification_report(y_test, y_pred_KNN))"
      ],
      "metadata": {
        "colab": {
          "base_uri": "https://localhost:8080/"
        },
        "id": "Bn8xKSweBE3Z",
        "outputId": "d54f2273-44f5-4eb0-9db0-ad0420920653"
      },
      "execution_count": 8,
      "outputs": [
        {
          "output_type": "stream",
          "name": "stderr",
          "text": [
            "/usr/local/lib/python3.7/dist-packages/sklearn/neighbors/_classification.py:198: DataConversionWarning: A column-vector y was passed when a 1d array was expected. Please change the shape of y to (n_samples,), for example using ravel().\n",
            "  return self._fit(X, y)\n"
          ]
        },
        {
          "output_type": "stream",
          "name": "stdout",
          "text": [
            "              precision    recall  f1-score   support\n",
            "\n",
            "         0.0       0.87      0.85      0.86      1747\n",
            "         1.0       0.85      0.87      0.86      1682\n",
            "\n",
            "    accuracy                           0.86      3429\n",
            "   macro avg       0.86      0.86      0.86      3429\n",
            "weighted avg       0.86      0.86      0.86      3429\n",
            "\n"
          ]
        }
      ]
    },
    {
      "cell_type": "code",
      "source": [
        "#===========================CONSTRUCTING THE CONFUSION MATRIX=============================#\n",
        "def plot_confusion_matrix(cm, classes, normalize=True, title='Confusion matrix', cmap=plt.cm.Greens):\n",
        "    \n",
        "    plt.figure(figsize=(10,10))\n",
        "    plt.imshow(cm, interpolation='nearest', cmap=cmap)\n",
        "    plt.title(title)\n",
        "    plt.colorbar()\n",
        "    tick_marks = np.arange(len(classes))\n",
        "    plt.xticks(tick_marks, classes, rotation=45)\n",
        "    plt.yticks(tick_marks, classes)\n",
        "    if normalize:\n",
        "        cm = cm.astype('float') / cm.sum(axis=1)[:, np.newaxis]\n",
        "        cm = np.around(cm, decimals=2)\n",
        "        cm[np.isnan(cm)] = 0.0\n",
        "    thresh = cm.max() / 2.\n",
        "    for i, j in itertools.product(range(cm.shape[0]), range(cm.shape[1])):\n",
        "        plt.text(j, i, cm[i, j],\n",
        "                 horizontalalignment=\"center\",\n",
        "                 color=\"white\" if cm[i, j] > thresh else \"black\")\n",
        "    plt.tight_layout()\n",
        "    plt.ylabel('True label')\n",
        "    plt.xlabel('Predicted label')\n",
        "cm = confusion_matrix(y_test, y_pred_KNN)\n",
        "target_names = [\"Phishing Detected\", \"Phishing Not Detected\"]\n",
        "plot_confusion_matrix(cm, target_names, normalize=False, title='Confusion Matrix')\n",
        "accuracy_score(y_test, y_pred_KNN)"
      ],
      "metadata": {
        "colab": {
          "base_uri": "https://localhost:8080/",
          "height": 714
        },
        "id": "Rf9Pgp7tBVhS",
        "outputId": "cab2db89-32a3-4fe3-9b52-715041cf3c49"
      },
      "execution_count": 9,
      "outputs": [
        {
          "output_type": "execute_result",
          "data": {
            "text/plain": [
              "0.8597258675998833"
            ]
          },
          "metadata": {},
          "execution_count": 9
        },
        {
          "output_type": "display_data",
          "data": {
            "text/plain": [
              "<Figure size 720x720 with 2 Axes>"
            ],
            "image/png": "[encoded data removed]"
          },
          "metadata": {
            "needs_background": "light"
          }
        }
      ]
    },
    {
      "cell_type": "code",
      "source": [],
      "metadata": {
        "id": "ztl5y_Q5Be9g"
      },
      "execution_count": null,
      "outputs": []
    }
  ]
}